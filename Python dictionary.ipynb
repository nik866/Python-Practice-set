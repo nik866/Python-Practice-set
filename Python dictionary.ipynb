{
 "cells": [
  {
   "cell_type": "markdown",
   "id": "1a22cefe",
   "metadata": {},
   "source": [
    "# Dictionaries and Structuring Data"
   ]
  },
  {
   "cell_type": "code",
   "execution_count": 1,
   "id": "866cccd6",
   "metadata": {},
   "outputs": [],
   "source": [
    "myDog = {'size':'fat','color':'yellow','disposition':'loud'}"
   ]
  },
  {
   "cell_type": "code",
   "execution_count": 3,
   "id": "6e35cc1f",
   "metadata": {},
   "outputs": [
    {
     "name": "stdout",
     "output_type": "stream",
     "text": [
      "fat\n",
      "yellow\n",
      "loud\n"
     ]
    }
   ],
   "source": [
    "for v in myDog.values():\n",
    "    print(v)"
   ]
  },
  {
   "cell_type": "code",
   "execution_count": 4,
   "id": "654e4feb",
   "metadata": {},
   "outputs": [
    {
     "name": "stdout",
     "output_type": "stream",
     "text": [
      "size\n",
      "color\n",
      "disposition\n"
     ]
    }
   ],
   "source": [
    "for k in myDog.keys():\n",
    "    print(k)"
   ]
  },
  {
   "cell_type": "code",
   "execution_count": 5,
   "id": "ae81ab2f",
   "metadata": {},
   "outputs": [
    {
     "name": "stdout",
     "output_type": "stream",
     "text": [
      "('size', 'fat')\n",
      "('color', 'yellow')\n",
      "('disposition', 'loud')\n"
     ]
    }
   ],
   "source": [
    "for i in myDog.items():\n",
    "    print(i)"
   ]
  },
  {
   "cell_type": "code",
   "execution_count": 6,
   "id": "2c32ab4b",
   "metadata": {},
   "outputs": [
    {
     "name": "stdout",
     "output_type": "stream",
     "text": [
      "key:size value:fat\n",
      "key:color value:yellow\n",
      "key:disposition value:loud\n"
     ]
    }
   ],
   "source": [
    "for k,v in myDog.items():\n",
    "    print('key:{} value:{}'.format(k,str(v)))"
   ]
  },
  {
   "cell_type": "code",
   "execution_count": 9,
   "id": "b9d76dd9",
   "metadata": {},
   "outputs": [
    {
     "data": {
      "text/plain": [
       "True"
      ]
     },
     "execution_count": 9,
     "metadata": {},
     "output_type": "execute_result"
    }
   ],
   "source": [
    "'color' in myDog.keys()"
   ]
  },
  {
   "cell_type": "markdown",
   "id": "4618d5af",
   "metadata": {},
   "source": [
    "# get() method"
   ]
  },
  {
   "cell_type": "code",
   "execution_count": 10,
   "id": "37d00728",
   "metadata": {},
   "outputs": [],
   "source": [
    "restaurant_items = {'Burger':3,'Pizza':5}"
   ]
  },
  {
   "cell_type": "code",
   "execution_count": 14,
   "id": "ebb12087",
   "metadata": {},
   "outputs": [
    {
     "data": {
      "text/plain": [
       "'I am bringing5 Pizza.'"
      ]
     },
     "execution_count": 14,
     "metadata": {},
     "output_type": "execute_result"
    }
   ],
   "source": [
    "'I am bringing{} Pizza.'.format(str(restaurant_items.get('Pizza',0)))"
   ]
  },
  {
   "cell_type": "code",
   "execution_count": 16,
   "id": "cc70a218",
   "metadata": {},
   "outputs": [
    {
     "data": {
      "text/plain": [
       "'I am bringing2 Apple.'"
      ]
     },
     "execution_count": 16,
     "metadata": {},
     "output_type": "execute_result"
    }
   ],
   "source": [
    "'I am bringing{} Apple.'.format(str(restaurant_items.get('Apple',2)))"
   ]
  },
  {
   "cell_type": "markdown",
   "id": "4199ec78",
   "metadata": {},
   "source": [
    "# setdefault() Method"
   ]
  },
  {
   "cell_type": "code",
   "execution_count": 20,
   "id": "852882da",
   "metadata": {},
   "outputs": [],
   "source": [
    "myDog = {'size':'fat','color':'yellow','disposition':'loud'}"
   ]
  },
  {
   "cell_type": "code",
   "execution_count": 18,
   "id": "50dbf41a",
   "metadata": {},
   "outputs": [
    {
     "data": {
      "text/plain": [
       "'yellow'"
      ]
     },
     "execution_count": 18,
     "metadata": {},
     "output_type": "execute_result"
    }
   ],
   "source": [
    "myDog.setdefault('color','white')"
   ]
  },
  {
   "cell_type": "code",
   "execution_count": 19,
   "id": "7747d3b9",
   "metadata": {},
   "outputs": [
    {
     "data": {
      "text/plain": [
       "{'size': 'fat', 'color': 'yellow', 'disposition': 'loud'}"
      ]
     },
     "execution_count": 19,
     "metadata": {},
     "output_type": "execute_result"
    }
   ],
   "source": [
    "myDog"
   ]
  },
  {
   "cell_type": "code",
   "execution_count": 21,
   "id": "52c2382c",
   "metadata": {},
   "outputs": [
    {
     "data": {
      "text/plain": [
       "{'size': 'fat', 'color': 'yellow', 'disposition': 'loud'}"
      ]
     },
     "execution_count": 21,
     "metadata": {},
     "output_type": "execute_result"
    }
   ],
   "source": [
    "myDog.setdefault('color','red')\n",
    "myDog"
   ]
  },
  {
   "cell_type": "markdown",
   "id": "77d390c1",
   "metadata": {},
   "source": [
    "# Merge two dictionaries"
   ]
  },
  {
   "cell_type": "code",
   "execution_count": 9,
   "id": "ce1825ac",
   "metadata": {},
   "outputs": [],
   "source": [
    "x = {'a':1,'b':2,'c':3,'d':4}\n",
    "y = {'d':5,'e':6,'f':7,'g':8}"
   ]
  },
  {
   "cell_type": "code",
   "execution_count": 11,
   "id": "b86f5bf5",
   "metadata": {},
   "outputs": [
    {
     "data": {
      "text/plain": [
       "{'a': 1, 'b': 2, 'c': 3, 'd': 5, 'e': 6, 'f': 7, 'g': 8}"
      ]
     },
     "execution_count": 11,
     "metadata": {},
     "output_type": "execute_result"
    }
   ],
   "source": [
    "z = dict(x,**y)\n",
    "z"
   ]
  },
  {
   "cell_type": "code",
   "execution_count": null,
   "id": "ed039401",
   "metadata": {},
   "outputs": [],
   "source": []
  }
 ],
 "metadata": {
  "kernelspec": {
   "display_name": "Python 3 (ipykernel)",
   "language": "python",
   "name": "python3"
  },
  "language_info": {
   "codemirror_mode": {
    "name": "ipython",
    "version": 3
   },
   "file_extension": ".py",
   "mimetype": "text/x-python",
   "name": "python",
   "nbconvert_exporter": "python",
   "pygments_lexer": "ipython3",
   "version": "3.9.12"
  }
 },
 "nbformat": 4,
 "nbformat_minor": 5
}
