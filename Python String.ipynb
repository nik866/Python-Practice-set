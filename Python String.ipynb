{
 "cells": [
  {
   "cell_type": "code",
   "execution_count": 1,
   "id": "86990555",
   "metadata": {},
   "outputs": [],
   "source": [
    "#Strings are Array, a string is a sequence of Unicode characters. Unicode was introduced to include every character in all languages and bring uniformity in encoding."
   ]
  },
  {
   "cell_type": "markdown",
   "id": "505a5c96",
   "metadata": {},
   "source": [
    "# Indexing and Slicing"
   ]
  },
  {
   "cell_type": "code",
   "execution_count": 2,
   "id": "72f42cc4",
   "metadata": {},
   "outputs": [],
   "source": [
    "name = 'Radhe Shyam'"
   ]
  },
  {
   "cell_type": "code",
   "execution_count": 3,
   "id": "bf1ca911",
   "metadata": {},
   "outputs": [
    {
     "data": {
      "text/plain": [
       "'R'"
      ]
     },
     "execution_count": 3,
     "metadata": {},
     "output_type": "execute_result"
    }
   ],
   "source": [
    "name[0]"
   ]
  },
  {
   "cell_type": "code",
   "execution_count": 4,
   "id": "698d3a68",
   "metadata": {},
   "outputs": [
    {
     "data": {
      "text/plain": [
       "'h'"
      ]
     },
     "execution_count": 4,
     "metadata": {},
     "output_type": "execute_result"
    }
   ],
   "source": [
    "name[3]"
   ]
  },
  {
   "cell_type": "code",
   "execution_count": 6,
   "id": "3ed93c57",
   "metadata": {},
   "outputs": [
    {
     "data": {
      "text/plain": [
       "'S'"
      ]
     },
     "execution_count": 6,
     "metadata": {},
     "output_type": "execute_result"
    }
   ],
   "source": [
    "name[-5]"
   ]
  },
  {
   "cell_type": "code",
   "execution_count": 7,
   "id": "bd81a310",
   "metadata": {},
   "outputs": [
    {
     "data": {
      "text/plain": [
       "'Radhe'"
      ]
     },
     "execution_count": 7,
     "metadata": {},
     "output_type": "execute_result"
    }
   ],
   "source": [
    "name[0:5]"
   ]
  },
  {
   "cell_type": "code",
   "execution_count": 8,
   "id": "7a6a3354",
   "metadata": {},
   "outputs": [
    {
     "data": {
      "text/plain": [
       "'Radhe '"
      ]
     },
     "execution_count": 8,
     "metadata": {},
     "output_type": "execute_result"
    }
   ],
   "source": [
    "name[0:-5]"
   ]
  },
  {
   "cell_type": "code",
   "execution_count": 9,
   "id": "c64d5993",
   "metadata": {},
   "outputs": [
    {
     "data": {
      "text/plain": [
       "'Radhe'"
      ]
     },
     "execution_count": 9,
     "metadata": {},
     "output_type": "execute_result"
    }
   ],
   "source": [
    "name[:5]"
   ]
  },
  {
   "cell_type": "code",
   "execution_count": 11,
   "id": "12307965",
   "metadata": {},
   "outputs": [
    {
     "data": {
      "text/plain": [
       "'Radhe S'"
      ]
     },
     "execution_count": 11,
     "metadata": {},
     "output_type": "execute_result"
    }
   ],
   "source": [
    "name[:7]"
   ]
  },
  {
   "cell_type": "code",
   "execution_count": 12,
   "id": "429a5ef6",
   "metadata": {},
   "outputs": [
    {
     "data": {
      "text/plain": [
       "' Shyam'"
      ]
     },
     "execution_count": 12,
     "metadata": {},
     "output_type": "execute_result"
    }
   ],
   "source": [
    "name[5:]"
   ]
  },
  {
   "cell_type": "code",
   "execution_count": 13,
   "id": "689a4ced",
   "metadata": {},
   "outputs": [
    {
     "data": {
      "text/plain": [
       "' Shya'"
      ]
     },
     "execution_count": 13,
     "metadata": {},
     "output_type": "execute_result"
    }
   ],
   "source": [
    "name[5:-1]"
   ]
  },
  {
   "cell_type": "code",
   "execution_count": 14,
   "id": "7e6cfb5d",
   "metadata": {},
   "outputs": [
    {
     "data": {
      "text/plain": [
       "' Shy'"
      ]
     },
     "execution_count": 14,
     "metadata": {},
     "output_type": "execute_result"
    }
   ],
   "source": [
    "name[5:-2]"
   ]
  },
  {
   "cell_type": "code",
   "execution_count": 15,
   "id": "0e957fa0",
   "metadata": {},
   "outputs": [
    {
     "data": {
      "text/plain": [
       "'R m'"
      ]
     },
     "execution_count": 15,
     "metadata": {},
     "output_type": "execute_result"
    }
   ],
   "source": [
    "name[::5]"
   ]
  },
  {
   "cell_type": "code",
   "execution_count": 16,
   "id": "5c5e2f5c",
   "metadata": {},
   "outputs": [
    {
     "data": {
      "text/plain": [
       "'Rey'"
      ]
     },
     "execution_count": 16,
     "metadata": {},
     "output_type": "execute_result"
    }
   ],
   "source": [
    "name[::4]"
   ]
  },
  {
   "cell_type": "code",
   "execution_count": 17,
   "id": "0d4cd5c3",
   "metadata": {},
   "outputs": [
    {
     "data": {
      "text/plain": [
       "'m R'"
      ]
     },
     "execution_count": 17,
     "metadata": {},
     "output_type": "execute_result"
    }
   ],
   "source": [
    "name[::-5]"
   ]
  },
  {
   "cell_type": "code",
   "execution_count": 18,
   "id": "ea804a37",
   "metadata": {},
   "outputs": [
    {
     "data": {
      "text/plain": [
       "'mayhS ehdaR'"
      ]
     },
     "execution_count": 18,
     "metadata": {},
     "output_type": "execute_result"
    }
   ],
   "source": [
    "name[::-1]"
   ]
  },
  {
   "cell_type": "markdown",
   "id": "985d972f",
   "metadata": {},
   "source": [
    "# Upper() & Lower() Method"
   ]
  },
  {
   "cell_type": "code",
   "execution_count": 19,
   "id": "f612e4af",
   "metadata": {},
   "outputs": [],
   "source": [
    "name = 'Radhe Shyam'"
   ]
  },
  {
   "cell_type": "code",
   "execution_count": 20,
   "id": "c08ddd87",
   "metadata": {},
   "outputs": [
    {
     "data": {
      "text/plain": [
       "'RADHE SHYAM'"
      ]
     },
     "execution_count": 20,
     "metadata": {},
     "output_type": "execute_result"
    }
   ],
   "source": [
    "name = name.upper()\n",
    "name"
   ]
  },
  {
   "cell_type": "code",
   "execution_count": 21,
   "id": "2726bbbd",
   "metadata": {},
   "outputs": [
    {
     "data": {
      "text/plain": [
       "'radhe shyam'"
      ]
     },
     "execution_count": 21,
     "metadata": {},
     "output_type": "execute_result"
    }
   ],
   "source": [
    "name = name.lower()\n",
    "name"
   ]
  },
  {
   "cell_type": "markdown",
   "id": "b86511b4",
   "metadata": {},
   "source": [
    "# Join() & Split() Method"
   ]
  },
  {
   "cell_type": "code",
   "execution_count": 22,
   "id": "6a67f4d9",
   "metadata": {},
   "outputs": [
    {
     "data": {
      "text/plain": [
       "'apple,mango,banana'"
      ]
     },
     "execution_count": 22,
     "metadata": {},
     "output_type": "execute_result"
    }
   ],
   "source": [
    "','.join(['apple','mango','banana'])"
   ]
  },
  {
   "cell_type": "code",
   "execution_count": 23,
   "id": "ce52b72f",
   "metadata": {},
   "outputs": [
    {
     "data": {
      "text/plain": [
       "'my name is Rockey'"
      ]
     },
     "execution_count": 23,
     "metadata": {},
     "output_type": "execute_result"
    }
   ],
   "source": [
    "' '.join(['my','name','is','Rockey'])"
   ]
  },
  {
   "cell_type": "code",
   "execution_count": 24,
   "id": "f514f6ac",
   "metadata": {},
   "outputs": [
    {
     "data": {
      "text/plain": [
       "'myA1B2C3 nameA1B2C3 isA1B2C3 Rockey'"
      ]
     },
     "execution_count": 24,
     "metadata": {},
     "output_type": "execute_result"
    }
   ],
   "source": [
    "'A1B2C3 '.join(['my','name','is','Rockey'])"
   ]
  },
  {
   "cell_type": "code",
   "execution_count": 26,
   "id": "72aade32",
   "metadata": {},
   "outputs": [
    {
     "data": {
      "text/plain": [
       "['my', 'name', 'is', 'Rockey']"
      ]
     },
     "execution_count": 26,
     "metadata": {},
     "output_type": "execute_result"
    }
   ],
   "source": [
    "'my name is Rockey'.split()"
   ]
  },
  {
   "cell_type": "code",
   "execution_count": 29,
   "id": "35361e29",
   "metadata": {},
   "outputs": [
    {
     "data": {
      "text/plain": [
       "['my', ' name', ' is', ' Rockey']"
      ]
     },
     "execution_count": 29,
     "metadata": {},
     "output_type": "execute_result"
    }
   ],
   "source": [
    "'myA1B2C3 nameA1B2C3 isA1B2C3 Rockey'.split('A1B2C3')"
   ]
  },
  {
   "cell_type": "markdown",
   "id": "f76b0e97",
   "metadata": {},
   "source": [
    "# rjust() & ljust() Method"
   ]
  },
  {
   "cell_type": "code",
   "execution_count": 30,
   "id": "ed43198e",
   "metadata": {},
   "outputs": [
    {
     "data": {
      "text/plain": [
       "'      Education'"
      ]
     },
     "execution_count": 30,
     "metadata": {},
     "output_type": "execute_result"
    }
   ],
   "source": [
    "'Education'.rjust(15)"
   ]
  },
  {
   "cell_type": "code",
   "execution_count": 31,
   "id": "0ddcb358",
   "metadata": {},
   "outputs": [
    {
     "data": {
      "text/plain": [
       "'                          Education'"
      ]
     },
     "execution_count": 31,
     "metadata": {},
     "output_type": "execute_result"
    }
   ],
   "source": [
    "'Education'.rjust(35)"
   ]
  },
  {
   "cell_type": "code",
   "execution_count": 32,
   "id": "31977082",
   "metadata": {},
   "outputs": [
    {
     "data": {
      "text/plain": [
       "'                              Education Trust'"
      ]
     },
     "execution_count": 32,
     "metadata": {},
     "output_type": "execute_result"
    }
   ],
   "source": [
    "'Education Trust'.rjust(45)"
   ]
  },
  {
   "cell_type": "code",
   "execution_count": 33,
   "id": "9de14550",
   "metadata": {},
   "outputs": [
    {
     "data": {
      "text/plain": [
       "'Education      '"
      ]
     },
     "execution_count": 33,
     "metadata": {},
     "output_type": "execute_result"
    }
   ],
   "source": [
    "'Education'.ljust(15)"
   ]
  },
  {
   "cell_type": "code",
   "execution_count": 35,
   "id": "1540b78e",
   "metadata": {},
   "outputs": [
    {
     "data": {
      "text/plain": [
       "'Education                                              '"
      ]
     },
     "execution_count": 35,
     "metadata": {},
     "output_type": "execute_result"
    }
   ],
   "source": [
    "'Education'.ljust(55)"
   ]
  },
  {
   "cell_type": "code",
   "execution_count": 36,
   "id": "f489faba",
   "metadata": {},
   "outputs": [
    {
     "data": {
      "text/plain": [
       "'######Education'"
      ]
     },
     "execution_count": 36,
     "metadata": {},
     "output_type": "execute_result"
    }
   ],
   "source": [
    "'Education'.rjust(15,'#')"
   ]
  },
  {
   "cell_type": "code",
   "execution_count": 39,
   "id": "62715182",
   "metadata": {},
   "outputs": [
    {
     "data": {
      "text/plain": [
       "'@@@@@@Education'"
      ]
     },
     "execution_count": 39,
     "metadata": {},
     "output_type": "execute_result"
    }
   ],
   "source": [
    "'Education'.rjust(15,'@')"
   ]
  },
  {
   "cell_type": "code",
   "execution_count": 41,
   "id": "7303a9bc",
   "metadata": {},
   "outputs": [
    {
     "data": {
      "text/plain": [
       "'Education------------------------------------------------------------------'"
      ]
     },
     "execution_count": 41,
     "metadata": {},
     "output_type": "execute_result"
    }
   ],
   "source": [
    "'Education'.ljust(75,'-')"
   ]
  },
  {
   "cell_type": "code",
   "execution_count": 43,
   "id": "1345e2c6",
   "metadata": {},
   "outputs": [
    {
     "data": {
      "text/plain": [
       "'~~~~~~~~~~~~~~~~~~~~~~~~~~~~~~~~~~~~~~~~~~~~~Education~~~~~~~~~~~~~~~~~~~~~~~~~~~~~~~~~~~~~~~~~~~~~~'"
      ]
     },
     "execution_count": 43,
     "metadata": {},
     "output_type": "execute_result"
    }
   ],
   "source": [
    "'Education'.center(100,'~')"
   ]
  },
  {
   "cell_type": "markdown",
   "id": "e92bc20d",
   "metadata": {},
   "source": [
    "# String Formatting"
   ]
  },
  {
   "cell_type": "code",
   "execution_count": 44,
   "id": "2cd7e938",
   "metadata": {},
   "outputs": [],
   "source": [
    "name = 'Peter Parker'"
   ]
  },
  {
   "cell_type": "code",
   "execution_count": 46,
   "id": "6ee01f21",
   "metadata": {},
   "outputs": [
    {
     "data": {
      "text/plain": [
       "'Hello Peter Parker'"
      ]
     },
     "execution_count": 46,
     "metadata": {},
     "output_type": "execute_result"
    }
   ],
   "source": [
    "'Hello %s'%name           # %s specifically is used to perform concatenation of strings together"
   ]
  },
  {
   "cell_type": "code",
   "execution_count": 55,
   "id": "2b880411",
   "metadata": {},
   "outputs": [
    {
     "data": {
      "text/plain": [
       "'I have c apples'"
      ]
     },
     "execution_count": 55,
     "metadata": {},
     "output_type": "execute_result"
    }
   ],
   "source": [
    "num = 12\n",
    "'I have %x apples' % num       # %x format specifier to convert an int value to a strings."
   ]
  },
  {
   "cell_type": "code",
   "execution_count": 56,
   "id": "9ee6c731",
   "metadata": {},
   "outputs": [
    {
     "data": {
      "text/plain": [
       "'I have f oranges'"
      ]
     },
     "execution_count": 56,
     "metadata": {},
     "output_type": "execute_result"
    }
   ],
   "source": [
    "num = 15\n",
    "'I have %x oranges' % num "
   ]
  },
  {
   "cell_type": "code",
   "execution_count": 53,
   "id": "1ed8d8b7",
   "metadata": {},
   "outputs": [],
   "source": [
    "name = 'Peter Parker'\n",
    "age = '20'"
   ]
  },
  {
   "cell_type": "code",
   "execution_count": null,
   "id": "1bf281c0",
   "metadata": {},
   "outputs": [],
   "source": [
    "# f-string"
   ]
  },
  {
   "cell_type": "code",
   "execution_count": 57,
   "id": "b869fbeb",
   "metadata": {},
   "outputs": [],
   "source": [
    "x = 10\n",
    "y = 20"
   ]
  },
  {
   "cell_type": "code",
   "execution_count": 59,
   "id": "aba710de",
   "metadata": {},
   "outputs": [
    {
     "data": {
      "text/plain": [
       "'ten plus twenty is30 and not60.'"
      ]
     },
     "execution_count": 59,
     "metadata": {},
     "output_type": "execute_result"
    }
   ],
   "source": [
    "f'ten plus twenty is{x+y} and not{2*(x+y)}.'"
   ]
  },
  {
   "cell_type": "code",
   "execution_count": null,
   "id": "3ed8499e",
   "metadata": {},
   "outputs": [],
   "source": []
  }
 ],
 "metadata": {
  "kernelspec": {
   "display_name": "Python 3 (ipykernel)",
   "language": "python",
   "name": "python3"
  },
  "language_info": {
   "codemirror_mode": {
    "name": "ipython",
    "version": 3
   },
   "file_extension": ".py",
   "mimetype": "text/x-python",
   "name": "python",
   "nbconvert_exporter": "python",
   "pygments_lexer": "ipython3",
   "version": "3.9.12"
  }
 },
 "nbformat": 4,
 "nbformat_minor": 5
}
