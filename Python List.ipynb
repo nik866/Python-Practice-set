{
 "cells": [
  {
   "cell_type": "markdown",
   "id": "435c13b2",
   "metadata": {},
   "source": [
    "# Changing values in a List with indexes"
   ]
  },
  {
   "cell_type": "code",
   "execution_count": 7,
   "id": "6e8ecb53",
   "metadata": {},
   "outputs": [],
   "source": [
    "list = ['Ram','Shyam','Ravi','Rajan','Suraj']\n",
    "list[1] = 'Tanya'"
   ]
  },
  {
   "cell_type": "code",
   "execution_count": 8,
   "id": "3bde0a10",
   "metadata": {},
   "outputs": [
    {
     "data": {
      "text/plain": [
       "['Ram', 'Tanya', 'Ravi', 'Rajan', 'Suraj']"
      ]
     },
     "execution_count": 8,
     "metadata": {},
     "output_type": "execute_result"
    }
   ],
   "source": [
    "list"
   ]
  },
  {
   "cell_type": "code",
   "execution_count": 9,
   "id": "817ad8ab",
   "metadata": {},
   "outputs": [],
   "source": [
    "list[2] = list[1]"
   ]
  },
  {
   "cell_type": "code",
   "execution_count": 10,
   "id": "db0cef36",
   "metadata": {},
   "outputs": [
    {
     "data": {
      "text/plain": [
       "['Ram', 'Tanya', 'Tanya', 'Rajan', 'Suraj']"
      ]
     },
     "execution_count": 10,
     "metadata": {},
     "output_type": "execute_result"
    }
   ],
   "source": [
    "list"
   ]
  },
  {
   "cell_type": "code",
   "execution_count": 11,
   "id": "c87fc954",
   "metadata": {},
   "outputs": [],
   "source": [
    "list[-2] = 234567"
   ]
  },
  {
   "cell_type": "code",
   "execution_count": 12,
   "id": "7b818010",
   "metadata": {},
   "outputs": [
    {
     "data": {
      "text/plain": [
       "['Ram', 'Tanya', 'Tanya', 234567, 'Suraj']"
      ]
     },
     "execution_count": 12,
     "metadata": {},
     "output_type": "execute_result"
    }
   ],
   "source": [
    "list"
   ]
  },
  {
   "cell_type": "markdown",
   "id": "331e6121",
   "metadata": {},
   "source": [
    "# List concatenation and replication"
   ]
  },
  {
   "cell_type": "code",
   "execution_count": 13,
   "id": "a6bb6e4b",
   "metadata": {},
   "outputs": [
    {
     "data": {
      "text/plain": [
       "[10, 20, 30, 'x', 'y', 'z']"
      ]
     },
     "execution_count": 13,
     "metadata": {},
     "output_type": "execute_result"
    }
   ],
   "source": [
    "[10,20,30] + ['x','y','z']"
   ]
  },
  {
   "cell_type": "code",
   "execution_count": 14,
   "id": "ab5814e2",
   "metadata": {},
   "outputs": [
    {
     "data": {
      "text/plain": [
       "['x', 'y', 'z', 'x', 'y', 'z', 'x', 'y', 'z', 'x', 'y', 'z']"
      ]
     },
     "execution_count": 14,
     "metadata": {},
     "output_type": "execute_result"
    }
   ],
   "source": [
    "['x','y','z']*4"
   ]
  },
  {
   "cell_type": "code",
   "execution_count": 15,
   "id": "d7c11fa4",
   "metadata": {},
   "outputs": [],
   "source": [
    "list = ['Ram','Shyam','Ravi','Rajan','Suraj']\n",
    "del list[2]"
   ]
  },
  {
   "cell_type": "code",
   "execution_count": 16,
   "id": "7e1ba632",
   "metadata": {},
   "outputs": [
    {
     "data": {
      "text/plain": [
       "['Ram', 'Shyam', 'Rajan', 'Suraj']"
      ]
     },
     "execution_count": 16,
     "metadata": {},
     "output_type": "execute_result"
    }
   ],
   "source": [
    "list"
   ]
  },
  {
   "cell_type": "markdown",
   "id": "8182484f",
   "metadata": {},
   "source": [
    "# Looping through multiple list with zip()"
   ]
  },
  {
   "cell_type": "code",
   "execution_count": 17,
   "id": "83058000",
   "metadata": {},
   "outputs": [
    {
     "name": "stdout",
     "output_type": "stream",
     "text": [
      "Peter is 12 years old\n",
      "John is 18 years old\n",
      "Helson is 25 years old\n",
      "Jockey is 28 years old\n"
     ]
    }
   ],
   "source": [
    "name = ['Peter','John','Helson','Jockey']\n",
    "age = [12,18,25,28]\n",
    "for n,a in zip(name,age):\n",
    "    print('{} is {} years old'.format(n,a))"
   ]
  },
  {
   "cell_type": "code",
   "execution_count": 18,
   "id": "d48110a3",
   "metadata": {},
   "outputs": [
    {
     "data": {
      "text/plain": [
       "2"
      ]
     },
     "execution_count": 18,
     "metadata": {},
     "output_type": "execute_result"
    }
   ],
   "source": [
    "name = ['Peter','John','Helson','Jockey']\n",
    "name.index('Helson')"
   ]
  },
  {
   "cell_type": "markdown",
   "id": "78fc0346",
   "metadata": {},
   "source": [
    "# Adding values to list with append() and insert()"
   ]
  },
  {
   "cell_type": "code",
   "execution_count": 19,
   "id": "0d8e302a",
   "metadata": {},
   "outputs": [],
   "source": [
    "l1 = ['Peter','John','Helson','Jockey']"
   ]
  },
  {
   "cell_type": "code",
   "execution_count": 20,
   "id": "e39aee88",
   "metadata": {},
   "outputs": [],
   "source": [
    "l1.append('Bob')"
   ]
  },
  {
   "cell_type": "code",
   "execution_count": 21,
   "id": "783544a7",
   "metadata": {},
   "outputs": [
    {
     "data": {
      "text/plain": [
       "['Peter', 'John', 'Helson', 'Jockey', 'Bob']"
      ]
     },
     "execution_count": 21,
     "metadata": {},
     "output_type": "execute_result"
    }
   ],
   "source": [
    "l1"
   ]
  },
  {
   "cell_type": "code",
   "execution_count": 22,
   "id": "023d3c30",
   "metadata": {},
   "outputs": [],
   "source": [
    "l1.insert(1,'Prince')"
   ]
  },
  {
   "cell_type": "code",
   "execution_count": 23,
   "id": "54007d20",
   "metadata": {},
   "outputs": [
    {
     "data": {
      "text/plain": [
       "['Peter', 'Prince', 'John', 'Helson', 'Jockey', 'Bob']"
      ]
     },
     "execution_count": 23,
     "metadata": {},
     "output_type": "execute_result"
    }
   ],
   "source": [
    "l1"
   ]
  },
  {
   "cell_type": "markdown",
   "id": "9e1015cc",
   "metadata": {},
   "source": [
    "# sorting the value in a list with sort() method"
   ]
  },
  {
   "cell_type": "code",
   "execution_count": 24,
   "id": "9c16dad6",
   "metadata": {},
   "outputs": [],
   "source": [
    "list = ['Ram','Shyam','Ravi','Rajan','Suraj']"
   ]
  },
  {
   "cell_type": "code",
   "execution_count": 25,
   "id": "703205a7",
   "metadata": {},
   "outputs": [],
   "source": [
    "list.sort()"
   ]
  },
  {
   "cell_type": "code",
   "execution_count": 26,
   "id": "6af1f4e9",
   "metadata": {},
   "outputs": [
    {
     "data": {
      "text/plain": [
       "['Rajan', 'Ram', 'Ravi', 'Shyam', 'Suraj']"
      ]
     },
     "execution_count": 26,
     "metadata": {},
     "output_type": "execute_result"
    }
   ],
   "source": [
    "list"
   ]
  },
  {
   "cell_type": "code",
   "execution_count": 27,
   "id": "e052a510",
   "metadata": {},
   "outputs": [],
   "source": [
    "l1 = ['Peter','John','Helson','Jockey']\n",
    "l1.sort()"
   ]
  },
  {
   "cell_type": "code",
   "execution_count": 28,
   "id": "32a707ca",
   "metadata": {},
   "outputs": [
    {
     "data": {
      "text/plain": [
       "['Helson', 'Jockey', 'John', 'Peter']"
      ]
     },
     "execution_count": 28,
     "metadata": {},
     "output_type": "execute_result"
    }
   ],
   "source": [
    "l1"
   ]
  },
  {
   "cell_type": "code",
   "execution_count": 29,
   "id": "3cf8a426",
   "metadata": {},
   "outputs": [],
   "source": [
    "num = [2,6,8,5,9,11,1,33,7,9,7,6,2,54,22,78,31]\n",
    "num.sort()"
   ]
  },
  {
   "cell_type": "code",
   "execution_count": 30,
   "id": "f8256734",
   "metadata": {},
   "outputs": [
    {
     "data": {
      "text/plain": [
       "[1, 2, 2, 5, 6, 6, 7, 7, 8, 9, 9, 11, 22, 31, 33, 54, 78]"
      ]
     },
     "execution_count": 30,
     "metadata": {},
     "output_type": "execute_result"
    }
   ],
   "source": [
    "num"
   ]
  },
  {
   "cell_type": "code",
   "execution_count": 31,
   "id": "330dd509",
   "metadata": {},
   "outputs": [],
   "source": [
    "num.sort(reverse=True)"
   ]
  },
  {
   "cell_type": "code",
   "execution_count": 32,
   "id": "0f1e7373",
   "metadata": {},
   "outputs": [
    {
     "data": {
      "text/plain": [
       "[78, 54, 33, 31, 22, 11, 9, 9, 8, 7, 7, 6, 6, 5, 2, 2, 1]"
      ]
     },
     "execution_count": 32,
     "metadata": {},
     "output_type": "execute_result"
    }
   ],
   "source": [
    "num"
   ]
  },
  {
   "cell_type": "code",
   "execution_count": 33,
   "id": "edc667d4",
   "metadata": {},
   "outputs": [],
   "source": [
    "l1 = ['Peter','John','Helson','Jockey']\n",
    "l1.sort(key=str.lower)"
   ]
  },
  {
   "cell_type": "code",
   "execution_count": 34,
   "id": "13fad192",
   "metadata": {},
   "outputs": [
    {
     "data": {
      "text/plain": [
       "['Helson', 'Jockey', 'John', 'Peter']"
      ]
     },
     "execution_count": 34,
     "metadata": {},
     "output_type": "execute_result"
    }
   ],
   "source": [
    "l1"
   ]
  },
  {
   "cell_type": "code",
   "execution_count": 35,
   "id": "3adce5b2",
   "metadata": {},
   "outputs": [
    {
     "data": {
      "text/plain": [
       "4"
      ]
     },
     "execution_count": 35,
     "metadata": {},
     "output_type": "execute_result"
    }
   ],
   "source": [
    "len(l1)"
   ]
  },
  {
   "cell_type": "code",
   "execution_count": null,
   "id": "898b109b",
   "metadata": {},
   "outputs": [],
   "source": []
  }
 ],
 "metadata": {
  "kernelspec": {
   "display_name": "Python 3 (ipykernel)",
   "language": "python",
   "name": "python3"
  },
  "language_info": {
   "codemirror_mode": {
    "name": "ipython",
    "version": 3
   },
   "file_extension": ".py",
   "mimetype": "text/x-python",
   "name": "python",
   "nbconvert_exporter": "python",
   "pygments_lexer": "ipython3",
   "version": "3.9.12"
  }
 },
 "nbformat": 4,
 "nbformat_minor": 5
}
