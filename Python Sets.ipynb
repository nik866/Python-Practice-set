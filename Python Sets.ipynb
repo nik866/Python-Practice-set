{
 "cells": [
  {
   "cell_type": "markdown",
   "id": "f2d86824",
   "metadata": {},
   "source": [
    "# unordered collections of unique elements"
   ]
  },
  {
   "cell_type": "code",
   "execution_count": 1,
   "id": "d2edc6c3",
   "metadata": {},
   "outputs": [],
   "source": [
    "s = {5,8,6,9,8,5,7,3,2,4,2,3,10.12,10}"
   ]
  },
  {
   "cell_type": "code",
   "execution_count": 2,
   "id": "82842b71",
   "metadata": {},
   "outputs": [
    {
     "data": {
      "text/plain": [
       "{2, 3, 4, 5, 6, 7, 8, 9, 10, 10.12}"
      ]
     },
     "execution_count": 2,
     "metadata": {},
     "output_type": "execute_result"
    }
   ],
   "source": [
    "s     #no duplicate elments"
   ]
  },
  {
   "cell_type": "markdown",
   "id": "eda4180a",
   "metadata": {},
   "source": [
    "# set: add(),update(),remove(),discard()"
   ]
  },
  {
   "cell_type": "code",
   "execution_count": 3,
   "id": "d86901a1",
   "metadata": {},
   "outputs": [],
   "source": [
    "s = {5,8,6,9,8,5,7,3,2,4,2,3,10.12,10}"
   ]
  },
  {
   "cell_type": "code",
   "execution_count": 5,
   "id": "8f00b5a1",
   "metadata": {},
   "outputs": [
    {
     "data": {
      "text/plain": [
       "{2, 3, 4, 5, 6, 7, 8, 9, 10, 10.12, 15}"
      ]
     },
     "execution_count": 5,
     "metadata": {},
     "output_type": "execute_result"
    }
   ],
   "source": [
    "s.add(15)\n",
    "s"
   ]
  },
  {
   "cell_type": "code",
   "execution_count": 6,
   "id": "ff2bf8ab",
   "metadata": {},
   "outputs": [
    {
     "data": {
      "text/plain": [
       "{2, 3, 4, 5, 6, 7, 8, 9, 10, 10.12, 15, 20, 25, 30}"
      ]
     },
     "execution_count": 6,
     "metadata": {},
     "output_type": "execute_result"
    }
   ],
   "source": [
    "s.update([15,20,25,30])\n",
    "s"
   ]
  },
  {
   "cell_type": "code",
   "execution_count": 7,
   "id": "db2fe0c9",
   "metadata": {},
   "outputs": [
    {
     "data": {
      "text/plain": [
       "{2, 3, 4, 5, 6, 7, 8, 9, 10, 15, 20, 25, 30}"
      ]
     },
     "execution_count": 7,
     "metadata": {},
     "output_type": "execute_result"
    }
   ],
   "source": [
    "s.remove(10.12)\n",
    "s"
   ]
  },
  {
   "cell_type": "code",
   "execution_count": 8,
   "id": "6f602a1f",
   "metadata": {},
   "outputs": [
    {
     "data": {
      "text/plain": [
       "{2, 3, 4, 5, 6, 7, 8, 9, 10, 15, 20, 25, 30}"
      ]
     },
     "execution_count": 8,
     "metadata": {},
     "output_type": "execute_result"
    }
   ],
   "source": [
    "s.discard(10.12)\n",
    "s"
   ]
  },
  {
   "cell_type": "markdown",
   "id": "c9e2d901",
   "metadata": {},
   "source": [
    "# set union"
   ]
  },
  {
   "cell_type": "code",
   "execution_count": 9,
   "id": "c393fd61",
   "metadata": {},
   "outputs": [],
   "source": [
    "s1 = {5,10,15,20,25,30}\n",
    "s2 ={2,4,6,8,10,12,14}"
   ]
  },
  {
   "cell_type": "code",
   "execution_count": 10,
   "id": "e64075ad",
   "metadata": {},
   "outputs": [
    {
     "data": {
      "text/plain": [
       "{2, 4, 5, 6, 8, 10, 12, 14, 15, 20, 25, 30}"
      ]
     },
     "execution_count": 10,
     "metadata": {},
     "output_type": "execute_result"
    }
   ],
   "source": [
    "s1.union(s2)"
   ]
  },
  {
   "cell_type": "markdown",
   "id": "86612da8",
   "metadata": {},
   "source": [
    "# set: intersection & difference"
   ]
  },
  {
   "cell_type": "code",
   "execution_count": 11,
   "id": "09a9a72b",
   "metadata": {},
   "outputs": [],
   "source": [
    "s1 = {5,10,15,20,25,30}\n",
    "s2 ={2,4,6,8,10,12,14}\n",
    "s3 = {3,6,9,15,18,21}"
   ]
  },
  {
   "cell_type": "code",
   "execution_count": 12,
   "id": "45d5757d",
   "metadata": {},
   "outputs": [
    {
     "data": {
      "text/plain": [
       "{15}"
      ]
     },
     "execution_count": 12,
     "metadata": {},
     "output_type": "execute_result"
    }
   ],
   "source": [
    "s1.intersection(s1,s3)          #common to all of them"
   ]
  },
  {
   "cell_type": "code",
   "execution_count": 13,
   "id": "ca52915f",
   "metadata": {},
   "outputs": [
    {
     "data": {
      "text/plain": [
       "set()"
      ]
     },
     "execution_count": 13,
     "metadata": {},
     "output_type": "execute_result"
    }
   ],
   "source": [
    "s1.intersection(s2,s3) "
   ]
  },
  {
   "cell_type": "code",
   "execution_count": 14,
   "id": "cfa87cd5",
   "metadata": {},
   "outputs": [
    {
     "data": {
      "text/plain": [
       "{10}"
      ]
     },
     "execution_count": 14,
     "metadata": {},
     "output_type": "execute_result"
    }
   ],
   "source": [
    "s1.intersection(s1,s2) "
   ]
  },
  {
   "cell_type": "code",
   "execution_count": 15,
   "id": "d7ff441f",
   "metadata": {},
   "outputs": [],
   "source": [
    "#difference will return only the elements that are unique to the first set"
   ]
  },
  {
   "cell_type": "code",
   "execution_count": 16,
   "id": "a04bd76a",
   "metadata": {},
   "outputs": [
    {
     "data": {
      "text/plain": [
       "{5, 15, 20, 25, 30}"
      ]
     },
     "execution_count": 16,
     "metadata": {},
     "output_type": "execute_result"
    }
   ],
   "source": [
    "s1.difference(s2)"
   ]
  },
  {
   "cell_type": "code",
   "execution_count": 17,
   "id": "5ac6d239",
   "metadata": {},
   "outputs": [
    {
     "data": {
      "text/plain": [
       "{5, 10, 20, 25, 30}"
      ]
     },
     "execution_count": 17,
     "metadata": {},
     "output_type": "execute_result"
    }
   ],
   "source": [
    "s1.difference(s3)"
   ]
  },
  {
   "cell_type": "code",
   "execution_count": 18,
   "id": "8d28baae",
   "metadata": {},
   "outputs": [
    {
     "data": {
      "text/plain": [
       "<function set.symmetric_difference>"
      ]
     },
     "execution_count": 18,
     "metadata": {},
     "output_type": "execute_result"
    }
   ],
   "source": [
    "s1.symmetric_difference          #will return that are not common between them"
   ]
  },
  {
   "cell_type": "code",
   "execution_count": 19,
   "id": "8343dcc5",
   "metadata": {},
   "outputs": [
    {
     "data": {
      "text/plain": [
       "{2, 4, 5, 6, 8, 12, 14, 15, 20, 25, 30}"
      ]
     },
     "execution_count": 19,
     "metadata": {},
     "output_type": "execute_result"
    }
   ],
   "source": [
    "s1.symmetric_difference(s2)"
   ]
  },
  {
   "cell_type": "markdown",
   "id": "1b8fc2e4",
   "metadata": {},
   "source": [
    "# Intertools Module"
   ]
  },
  {
   "cell_type": "code",
   "execution_count": 4,
   "id": "9a9c55ee",
   "metadata": {},
   "outputs": [],
   "source": [
    "#Intertol module is used to iterate over data structure that can be stepped over using a for loop."
   ]
  },
  {
   "cell_type": "code",
   "execution_count": 5,
   "id": "5c4aef07",
   "metadata": {},
   "outputs": [
    {
     "name": "stdout",
     "output_type": "stream",
     "text": [
      "Note: you may need to restart the kernel to use updated packages.\n"
     ]
    },
    {
     "name": "stderr",
     "output_type": "stream",
     "text": [
      "ERROR: Could not find a version that satisfies the requirement intertools (from versions: none)\n",
      "ERROR: No matching distribution found for intertools\n"
     ]
    }
   ],
   "source": [
    "pip install intertools"
   ]
  },
  {
   "cell_type": "code",
   "execution_count": 2,
   "id": "4817eedf",
   "metadata": {},
   "outputs": [],
   "source": [
    "num = [2,4,6,8,10,12]"
   ]
  },
  {
   "cell_type": "code",
   "execution_count": 3,
   "id": "f3047425",
   "metadata": {},
   "outputs": [
    {
     "ename": "NameError",
     "evalue": "name 'intertools' is not defined",
     "output_type": "error",
     "traceback": [
      "\u001b[1;31m---------------------------------------------------------------------------\u001b[0m",
      "\u001b[1;31mNameError\u001b[0m                                 Traceback (most recent call last)",
      "Input \u001b[1;32mIn [3]\u001b[0m, in \u001b[0;36m<cell line: 1>\u001b[1;34m()\u001b[0m\n\u001b[1;32m----> 1\u001b[0m result \u001b[38;5;241m=\u001b[39m \u001b[43mintertools\u001b[49m\u001b[38;5;241m.\u001b[39maccumulate(num)\n\u001b[0;32m      2\u001b[0m \u001b[38;5;28;01mfor\u001b[39;00m each \u001b[38;5;129;01min\u001b[39;00m result:\n\u001b[0;32m      3\u001b[0m     \u001b[38;5;28mprint\u001b[39m(each)\n",
      "\u001b[1;31mNameError\u001b[0m: name 'intertools' is not defined"
     ]
    }
   ],
   "source": [
    "result = intertools.accumulate(num)\n",
    "for each in result:\n",
    "    print(each)"
   ]
  },
  {
   "cell_type": "code",
   "execution_count": null,
   "id": "cc4adb35",
   "metadata": {},
   "outputs": [],
   "source": []
  }
 ],
 "metadata": {
  "kernelspec": {
   "display_name": "Python 3 (ipykernel)",
   "language": "python",
   "name": "python3"
  },
  "language_info": {
   "codemirror_mode": {
    "name": "ipython",
    "version": 3
   },
   "file_extension": ".py",
   "mimetype": "text/x-python",
   "name": "python",
   "nbconvert_exporter": "python",
   "pygments_lexer": "ipython3",
   "version": "3.9.12"
  }
 },
 "nbformat": 4,
 "nbformat_minor": 5
}
