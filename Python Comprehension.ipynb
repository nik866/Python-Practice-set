{
 "cells": [
  {
   "cell_type": "code",
   "execution_count": 2,
   "id": "7eb11a20",
   "metadata": {},
   "outputs": [],
   "source": [
    "#comprehensions in python are used to generate new sequences depend on existing sequence with a short and concise way "
   ]
  },
  {
   "cell_type": "markdown",
   "id": "f6c33c4c",
   "metadata": {},
   "source": [
    "# List Comprehensions"
   ]
  },
  {
   "cell_type": "code",
   "execution_count": 3,
   "id": "1bcdcd60",
   "metadata": {},
   "outputs": [],
   "source": [
    "L = [4,8,12,16,20,24,28]"
   ]
  },
  {
   "cell_type": "code",
   "execution_count": 4,
   "id": "6d6d7b19",
   "metadata": {},
   "outputs": [
    {
     "data": {
      "text/plain": [
       "[3, 7, 11, 15, 19, 23, 27]"
      ]
     },
     "execution_count": 4,
     "metadata": {},
     "output_type": "execute_result"
    }
   ],
   "source": [
    "[i-1 for i in L]"
   ]
  },
  {
   "cell_type": "code",
   "execution_count": 5,
   "id": "bcc6f19b",
   "metadata": {},
   "outputs": [
    {
     "data": {
      "text/plain": [
       "[2, 6, 10, 14, 18, 22, 26]"
      ]
     },
     "execution_count": 5,
     "metadata": {},
     "output_type": "execute_result"
    }
   ],
   "source": [
    "[i-2 for i in L]"
   ]
  },
  {
   "cell_type": "markdown",
   "id": "2fc29d4e",
   "metadata": {},
   "source": [
    "# set comprehension"
   ]
  },
  {
   "cell_type": "code",
   "execution_count": 6,
   "id": "7b0eb1b9",
   "metadata": {},
   "outputs": [],
   "source": [
    "S = {\"radhe\",\"shyam\"}"
   ]
  },
  {
   "cell_type": "code",
   "execution_count": 7,
   "id": "55f8bbee",
   "metadata": {},
   "outputs": [
    {
     "data": {
      "text/plain": [
       "{'RADHE', 'SHYAM'}"
      ]
     },
     "execution_count": 7,
     "metadata": {},
     "output_type": "execute_result"
    }
   ],
   "source": [
    "{s.upper() for s in S}"
   ]
  },
  {
   "cell_type": "markdown",
   "id": "50ddeb9b",
   "metadata": {},
   "source": [
    "# dict comprehension"
   ]
  },
  {
   "cell_type": "code",
   "execution_count": 10,
   "id": "b514220d",
   "metadata": {},
   "outputs": [],
   "source": [
    "D = {'name':'Riya','age':22}"
   ]
  },
  {
   "cell_type": "code",
   "execution_count": 11,
   "id": "eb6f202a",
   "metadata": {},
   "outputs": [
    {
     "data": {
      "text/plain": [
       "{'Riya': 'name', 22: 'age'}"
      ]
     },
     "execution_count": 11,
     "metadata": {},
     "output_type": "execute_result"
    }
   ],
   "source": [
    "{v:k for k,v in D.items()}"
   ]
  },
  {
   "cell_type": "code",
   "execution_count": null,
   "id": "8749218b",
   "metadata": {},
   "outputs": [],
   "source": []
  }
 ],
 "metadata": {
  "kernelspec": {
   "display_name": "Python 3 (ipykernel)",
   "language": "python",
   "name": "python3"
  },
  "language_info": {
   "codemirror_mode": {
    "name": "ipython",
    "version": 3
   },
   "file_extension": ".py",
   "mimetype": "text/x-python",
   "name": "python",
   "nbconvert_exporter": "python",
   "pygments_lexer": "ipython3",
   "version": "3.9.12"
  }
 },
 "nbformat": 4,
 "nbformat_minor": 5
}
